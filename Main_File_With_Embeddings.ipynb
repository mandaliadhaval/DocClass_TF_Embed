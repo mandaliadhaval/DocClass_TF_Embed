{
 "cells": [
  {
   "cell_type": "code",
   "execution_count": 1,
   "metadata": {
    "collapsed": true
   },
   "outputs": [],
   "source": [
    "from __future__ import absolute_import\n",
    "from __future__ import division\n",
    "from __future__ import print_function"
   ]
  },
  {
   "cell_type": "code",
   "execution_count": 2,
   "metadata": {
    "collapsed": true
   },
   "outputs": [],
   "source": [
    "import collections\n",
    "import math\n",
    "import os\n",
    "import random\n",
    "from tempfile import gettempdir\n",
    "import zipfile"
   ]
  },
  {
   "cell_type": "code",
   "execution_count": 3,
   "metadata": {
    "collapsed": true
   },
   "outputs": [],
   "source": [
    "import numpy as np\n",
    "from six.moves import urllib\n",
    "from six.moves import xrange  # pylint: disable=redefined-builtin\n",
    "import tensorflow as tf"
   ]
  },
  {
   "cell_type": "code",
   "execution_count": 4,
   "metadata": {
    "collapsed": true
   },
   "outputs": [],
   "source": [
    "url = 'http://mattmahoney.net/dc/'"
   ]
  },
  {
   "cell_type": "code",
   "execution_count": 7,
   "metadata": {
    "collapsed": true
   },
   "outputs": [],
   "source": [
    "def maybe_download(filename, expected_bytes):\n",
    "  \"\"\"Download a file if not present, and make sure it's the right size.\"\"\"\n",
    "  local_filename = os.path.join('./corpus', filename)\n",
    "  if not os.path.exists(local_filename):\n",
    "    local_filename, _ = urllib.request.urlretrieve(url + filename,\n",
    "                                                   local_filename)\n",
    "  statinfo = os.stat(local_filename)\n",
    "  if statinfo.st_size == expected_bytes:\n",
    "    print('Found and verified', filename)\n",
    "  else:\n",
    "    print(statinfo.st_size)\n",
    "    raise Exception('Failed to verify ' + local_filename +\n",
    "                    '. Can you get to it with a browser?')\n",
    "  return local_filename\n"
   ]
  },
  {
   "cell_type": "code",
   "execution_count": 8,
   "metadata": {},
   "outputs": [
    {
     "name": "stdout",
     "output_type": "stream",
     "text": [
      "Found and verified text8.zip\n"
     ]
    }
   ],
   "source": [
    "filename = maybe_download('text8.zip', 31344016)"
   ]
  },
  {
   "cell_type": "code",
   "execution_count": 9,
   "metadata": {
    "collapsed": true
   },
   "outputs": [],
   "source": [
    "def read_data(filename):\n",
    "  \"\"\"Extract the first file enclosed in a zip file as a list of words.\"\"\"\n",
    "  with zipfile.ZipFile(filename) as f:\n",
    "    data = tf.compat.as_str(f.read(f.namelist()[0])).split()\n",
    "  return data"
   ]
  },
  {
   "cell_type": "code",
   "execution_count": 10,
   "metadata": {},
   "outputs": [
    {
     "name": "stdout",
     "output_type": "stream",
     "text": [
      "Data size 17005207\n"
     ]
    }
   ],
   "source": [
    "vocabulary = read_data(filename)\n",
    "print('Data size', len(vocabulary))"
   ]
  },
  {
   "cell_type": "code",
   "execution_count": 11,
   "metadata": {
    "collapsed": true
   },
   "outputs": [],
   "source": [
    "vocabulary_size = 50000"
   ]
  },
  {
   "cell_type": "code",
   "execution_count": 12,
   "metadata": {
    "collapsed": true
   },
   "outputs": [],
   "source": [
    "def build_dataset(words, n_words):\n",
    "  \"\"\"Process raw inputs into a dataset.\"\"\"\n",
    "  count = [['UNK', -1]]\n",
    "  count.extend(collections.Counter(words).most_common(n_words - 1))\n",
    "  dictionary = dict()\n",
    "  for word, _ in count:\n",
    "    dictionary[word] = len(dictionary)\n",
    "  data = list()\n",
    "  unk_count = 0\n",
    "  for word in words:\n",
    "    index = dictionary.get(word, 0)\n",
    "    if index == 0:  # dictionary['UNK']\n",
    "      unk_count += 1\n",
    "    data.append(index)\n",
    "  count[0][1] = unk_count\n",
    "  reversed_dictionary = dict(zip(dictionary.values(), dictionary.keys()))\n",
    "  return data, count, dictionary, reversed_dictionary"
   ]
  },
  {
   "cell_type": "code",
   "execution_count": 13,
   "metadata": {
    "collapsed": true
   },
   "outputs": [],
   "source": [
    "data, count, dictionary, reverse_dictionary = build_dataset(vocabulary,\n",
    "                                                            vocabulary_size)"
   ]
  },
  {
   "cell_type": "code",
   "execution_count": null,
   "metadata": {
    "collapsed": true
   },
   "outputs": [],
   "source": [
    "#del vocabulary"
   ]
  },
  {
   "cell_type": "code",
   "execution_count": 14,
   "metadata": {},
   "outputs": [
    {
     "name": "stdout",
     "output_type": "stream",
     "text": [
      "Most common words (+UNK) [['UNK', 418391], ('the', 1061396), ('of', 593677), ('and', 416629), ('one', 411764)]\n",
      "Sample data [5237, 3082, 12, 6, 195, 2, 3136, 46, 59, 156] ['anarchism', 'originated', 'as', 'a', 'term', 'of', 'abuse', 'first', 'used', 'against']\n"
     ]
    }
   ],
   "source": [
    "print('Most common words (+UNK)', count[:5])\n",
    "print('Sample data', data[:10], [reverse_dictionary[i] for i in data[:10]])"
   ]
  },
  {
   "cell_type": "code",
   "execution_count": 15,
   "metadata": {
    "collapsed": true
   },
   "outputs": [],
   "source": [
    "data_index = 0"
   ]
  },
  {
   "cell_type": "code",
   "execution_count": 16,
   "metadata": {
    "collapsed": true
   },
   "outputs": [],
   "source": [
    "def generate_batch(batch_size, num_skips, skip_window):\n",
    "  global data_index\n",
    "  assert batch_size % num_skips == 0\n",
    "  assert num_skips <= 2 * skip_window\n",
    "  batch = np.ndarray(shape=(batch_size), dtype=np.int32)\n",
    "  labels = np.ndarray(shape=(batch_size, 1), dtype=np.int32)\n",
    "  span = 2 * skip_window + 1  # [ skip_window target skip_window ]\n",
    "  buffer = collections.deque(maxlen=span)\n",
    "  if data_index + span > len(data):\n",
    "    data_index = 0\n",
    "  buffer.extend(data[data_index:data_index + span])\n",
    "  data_index += span\n",
    "  for i in range(batch_size // num_skips):\n",
    "    context_words = [w for w in range(span) if w != skip_window]\n",
    "    words_to_use = random.sample(context_words, num_skips)\n",
    "    for j, context_word in enumerate(words_to_use):\n",
    "      batch[i * num_skips + j] = buffer[skip_window]\n",
    "      labels[i * num_skips + j, 0] = buffer[context_word]\n",
    "    if data_index == len(data):\n",
    "      buffer[:] = data[:span]\n",
    "      data_index = span\n",
    "    else:\n",
    "      buffer.append(data[data_index])\n",
    "      data_index += 1\n",
    "  # Backtrack a little bit to avoid skipping words in the end of a batch\n",
    "  data_index = (data_index + len(data) - span) % len(data)\n",
    "  return batch, labels"
   ]
  },
  {
   "cell_type": "code",
   "execution_count": 17,
   "metadata": {
    "collapsed": true
   },
   "outputs": [],
   "source": [
    "batch, labels = generate_batch(batch_size=8, num_skips=2, skip_window=1)"
   ]
  },
  {
   "cell_type": "code",
   "execution_count": 18,
   "metadata": {},
   "outputs": [
    {
     "name": "stdout",
     "output_type": "stream",
     "text": [
      "3082 originated -> 5237 anarchism\n",
      "3082 originated -> 12 as\n",
      "12 as -> 3082 originated\n",
      "12 as -> 6 a\n",
      "6 a -> 12 as\n",
      "6 a -> 195 term\n",
      "195 term -> 2 of\n",
      "195 term -> 6 a\n"
     ]
    }
   ],
   "source": [
    "for i in range(8):\n",
    "  print(batch[i], reverse_dictionary[batch[i]],\n",
    "        '->', labels[i, 0], reverse_dictionary[labels[i, 0]])"
   ]
  },
  {
   "cell_type": "code",
   "execution_count": 19,
   "metadata": {
    "collapsed": true
   },
   "outputs": [],
   "source": [
    "batch_size = 128\n",
    "embedding_size = 128  # Dimension of the embedding vector.\n",
    "skip_window = 1       # How many words to consider left and right.\n",
    "num_skips = 2         # How many times to reuse an input to generate a label.\n",
    "num_sampled = 64      # Number of negative examples to sample."
   ]
  },
  {
   "cell_type": "code",
   "execution_count": 20,
   "metadata": {
    "collapsed": true
   },
   "outputs": [],
   "source": [
    "valid_size = 16     # Random set of words to evaluate similarity on.\n",
    "valid_window = 100  # Only pick dev samples in the head of the distribution.\n",
    "valid_examples = np.random.choice(valid_window, valid_size, replace=False)"
   ]
  },
  {
   "cell_type": "code",
   "execution_count": 21,
   "metadata": {
    "collapsed": true
   },
   "outputs": [],
   "source": [
    "graph = tf.Graph()"
   ]
  },
  {
   "cell_type": "code",
   "execution_count": 22,
   "metadata": {
    "collapsed": true
   },
   "outputs": [],
   "source": [
    "with graph.as_default():\n",
    "\n",
    "  # Input data.\n",
    "  train_inputs = tf.placeholder(tf.int32, shape=[batch_size])\n",
    "  train_labels = tf.placeholder(tf.int32, shape=[batch_size, 1])\n",
    "  valid_dataset = tf.constant(valid_examples, dtype=tf.int32)\n",
    "\n",
    "  # Ops and variables pinned to the CPU because of missing GPU implementation\n",
    "  with tf.device('/cpu:0'):\n",
    "    # Look up embeddings for inputs.\n",
    "    embeddings = tf.Variable(\n",
    "        tf.random_uniform([vocabulary_size, embedding_size], -1.0, 1.0))\n",
    "    embed = tf.nn.embedding_lookup(embeddings, train_inputs)\n",
    "\n",
    "    # Construct the variables for the NCE loss\n",
    "    nce_weights = tf.Variable(\n",
    "        tf.truncated_normal([vocabulary_size, embedding_size],\n",
    "                            stddev=1.0 / math.sqrt(embedding_size)))\n",
    "    nce_biases = tf.Variable(tf.zeros([vocabulary_size]))\n",
    "\n",
    "  # Compute the average NCE loss for the batch.\n",
    "  # tf.nce_loss automatically draws a new sample of the negative labels each\n",
    "  # time we evaluate the loss.\n",
    "  # Explanation of the meaning of NCE loss:\n",
    "  #   http://mccormickml.com/2016/04/19/word2vec-tutorial-the-skip-gram-model/\n",
    "  loss = tf.reduce_mean(\n",
    "      tf.nn.nce_loss(weights=nce_weights,\n",
    "                     biases=nce_biases,\n",
    "                     labels=train_labels,\n",
    "                     inputs=embed,\n",
    "                     num_sampled=num_sampled,\n",
    "                     num_classes=vocabulary_size))\n",
    "\n",
    "  # Construct the SGD optimizer using a learning rate of 1.0.\n",
    "  optimizer = tf.train.GradientDescentOptimizer(1.0).minimize(loss)\n",
    "\n",
    "  # Compute the cosine similarity between minibatch examples and all embeddings.\n",
    "  norm = tf.sqrt(tf.reduce_sum(tf.square(embeddings), 1, keep_dims=True))\n",
    "  normalized_embeddings = embeddings / norm\n",
    "  valid_embeddings = tf.nn.embedding_lookup(\n",
    "      normalized_embeddings, valid_dataset)\n",
    "  similarity = tf.matmul(\n",
    "      int(valid_embeddings), normalized_embeddings, transpose_b=True)\n",
    "\n",
    "  # Add variable initializer.\n",
    "  init = tf.global_variables_initializer()"
   ]
  },
  {
   "cell_type": "code",
   "execution_count": 23,
   "metadata": {
    "collapsed": true
   },
   "outputs": [],
   "source": [
    "num_steps = 100001"
   ]
  },
  {
   "cell_type": "code",
   "execution_count": 24,
   "metadata": {},
   "outputs": [
    {
     "name": "stdout",
     "output_type": "stream",
     "text": [
      "Initialized\n",
      "Average loss at step  0 :  300.097259521\n",
      "Nearest to so: durkheim, lcd, devastation, sweyn, bassett, mendel, contributor, morally,\n",
      "Nearest to in: linseed, stretched, cem, nearly, presse, focus, snyder, cayley,\n",
      "Nearest to has: insensitivity, nagasaki, bore, odegard, hardliners, balked, tabby, quaternion,\n",
      "Nearest to d: escapades, ecclesiastica, turing, unheated, recite, helps, prohibition, cutter,\n",
      "Nearest to such: godfather, resided, fountainhead, approaching, anil, pull, bombardment, reveal,\n",
      "Nearest to their: atypical, achieve, bckgr, response, malayo, visualized, enthroned, endeavored,\n",
      "Nearest to however: cosmology, hideki, twilight, strengthens, flippers, conspiratorial, filings, tying,\n",
      "Nearest to see: milhaud, toba, kx, punishes, abl, resin, gloss, eglise,\n",
      "Nearest to to: cuff, alloy, preferring, sdlp, resolve, spontaneous, assertive, reflection,\n",
      "Nearest to not: watchers, existentialist, balkans, trilobite, asn, foremost, selig, nucleophilic,\n",
      "Nearest to only: fumimaro, corresponding, tigray, manifest, plastics, broome, afrikaners, deceiving,\n",
      "Nearest to s: lagenorhynchus, qualifiers, quail, conservationist, rodrigo, impatient, holland, voices,\n",
      "Nearest to but: beings, theta, mathworld, msf, friendliness, travellers, busing, demarcated,\n",
      "Nearest to with: grosbeak, emerson, explosions, algemeen, chuan, rathdown, reflector, unshielded,\n",
      "Nearest to is: games, sven, naked, occupying, pirates, ways, explained, greyhounds,\n",
      "Nearest to i: ski, creeds, ephrem, lama, nth, timed, harmonization, expositions,\n",
      "Average loss at step  2000 :  114.302406429\n",
      "Average loss at step  4000 :  52.3737628181\n",
      "Average loss at step  6000 :  33.066096041\n",
      "Average loss at step  8000 :  23.5466094636\n",
      "Average loss at step  10000 :  17.6613849844\n",
      "Nearest to so: durkheim, goal, devastation, extended, mathbf, contributor, tai, twilight,\n",
      "Nearest to in: and, of, nine, on, by, UNK, at, to,\n",
      "Nearest to has: is, bore, innumerable, nobody, coke, phi, incorporated, et,\n",
      "Nearest to d: turing, phi, basins, seo, helps, ultimately, population, everything,\n",
      "Nearest to such: fountainhead, paddington, resided, agave, solf, peaks, mathbf, pull,\n",
      "Nearest to their: the, bckgr, entered, municipality, blind, alien, buddhist, analyzing,\n",
      "Nearest to however: twilight, server, good, agave, cosmology, mctaggart, gb, bckgr,\n",
      "Nearest to see: otto, ipod, leave, five, orbitals, approximation, agave, neutrino,\n",
      "Nearest to to: in, and, cc, for, originally, gb, from, nine,\n",
      "Nearest to not: balkans, travel, khwarizmi, necessity, markets, existentialist, client, aiki,\n",
      "Nearest to only: corresponding, mathbf, fawcett, hiragana, manifest, one, tone, mountains,\n",
      "Nearest to s: and, the, oxygen, oath, zero, breaking, typology, of,\n",
      "Nearest to but: that, beings, were, archie, agave, studios, themed, unlimited,\n",
      "Nearest to with: and, in, for, german, of, news, confusion, nathaniel,\n",
      "Nearest to is: was, and, are, as, archie, in, outcome, bligh,\n",
      "Nearest to i: anchorage, ski, allow, accompanied, that, indian, aspiration, wozniak,\n",
      "Average loss at step  12000 :  14.0135878537\n",
      "Average loss at step  14000 :  11.8709059254\n",
      "Average loss at step  16000 :  10.0194401854\n",
      "Average loss at step  18000 :  8.48878718483\n",
      "Average loss at step  20000 :  7.85566452062\n",
      "Nearest to so: durkheim, devastation, sweyn, goal, borrowing, twilight, and, extended,\n",
      "Nearest to in: and, of, on, at, from, for, with, nine,\n",
      "Nearest to has: was, is, had, innumerable, glorious, bore, have, coke,\n",
      "Nearest to d: b, turing, phi, basins, setting, seo, ultimately, helps,\n",
      "Nearest to such: fountainhead, hbox, agave, evaluated, pull, promoting, temps, resided,\n",
      "Nearest to their: the, its, his, bckgr, entered, circ, en, buddhist,\n",
      "Nearest to however: photoshop, twilight, good, agave, hideki, cosmology, within, circ,\n",
      "Nearest to see: otto, circ, five, and, leave, dasyprocta, ipod, resin,\n",
      "Nearest to to: for, and, in, circ, with, nine, from, on,\n",
      "Nearest to not: it, also, balkans, markets, that, circ, necessity, khwarizmi,\n",
      "Nearest to only: rebellious, circ, agouti, corresponding, tone, hiragana, manifest, mathbf,\n",
      "Nearest to s: and, zero, the, his, or, of, six, typology,\n",
      "Nearest to but: and, that, is, beings, were, theta, archie, agouti,\n",
      "Nearest to with: in, and, for, of, by, to, confusion, circ,\n",
      "Nearest to is: was, are, as, has, were, circ, serapeum, by,\n",
      "Nearest to i: anchorage, creeds, anno, accompanied, lama, apatosaurus, seal, ski,\n",
      "Average loss at step  22000 :  7.04217803478\n",
      "Average loss at step  24000 :  6.83281714141\n",
      "Average loss at step  26000 :  6.83645402634\n",
      "Average loss at step  28000 :  6.3551653024\n",
      "Average loss at step  30000 :  5.96942277145\n",
      "Nearest to so: durkheim, lcd, morally, sweyn, devastation, twilight, however, contributor,\n",
      "Nearest to in: at, on, and, from, with, for, nine, by,\n",
      "Nearest to has: is, had, was, have, innumerable, glorious, bore, since,\n",
      "Nearest to d: b, and, turing, phi, setting, supervisory, basins, birkenau,\n",
      "Nearest to such: fountainhead, agave, evaluated, hbox, known, chalukyas, other, experimenting,\n",
      "Nearest to their: the, its, his, bckgr, entered, a, dasyprocta, circ,\n",
      "Nearest to however: but, twilight, photoshop, good, within, agave, almighty, that,\n",
      "Nearest to see: otto, almighty, and, kx, circ, leave, dasyprocta, five,\n",
      "Nearest to to: for, in, from, circ, with, into, would, nine,\n",
      "Nearest to not: also, codeine, it, they, balkans, circ, khwarizmi, necessity,\n",
      "Nearest to only: circ, rebellious, agouti, tone, corresponding, manifest, hiragana, bravery,\n",
      "Nearest to s: and, zero, two, six, or, his, the, five,\n",
      "Nearest to but: and, that, aba, however, archie, circ, beings, agouti,\n",
      "Nearest to with: in, for, and, by, six, circ, seven, to,\n",
      "Nearest to is: was, are, has, were, circ, as, for, dasyprocta,\n",
      "Nearest to i: crossbow, anchorage, nbs, creeds, lama, chron, ski, seal,\n",
      "Average loss at step  32000 :  5.99511381924\n",
      "Average loss at step  34000 :  5.67332954717\n",
      "Average loss at step  36000 :  5.75744862902\n",
      "Average loss at step  38000 :  5.5538352406\n",
      "Average loss at step  40000 :  5.30877221859\n",
      "Nearest to so: durkheim, lcd, morally, devastation, contributor, however, troughs, twilight,\n",
      "Nearest to in: at, and, on, from, circ, operatorname, nine, dasyprocta,\n",
      "Nearest to has: had, was, is, have, innumerable, glorious, bore, since,\n",
      "Nearest to d: b, turing, phi, basins, zero, and, supervisory, setting,\n",
      "Nearest to such: known, other, fountainhead, well, evaluated, agave, monte, chalukyas,\n",
      "Nearest to their: its, the, his, bckgr, entered, kifl, dasyprocta, circ,\n",
      "Nearest to however: but, photoshop, twilight, within, that, good, agave, circ,\n",
      "Nearest to see: almighty, otto, kx, circ, leave, and, dasyprocta, but,\n",
      "Nearest to to: for, nine, circ, with, zero, from, into, accomplishments,\n",
      "Nearest to not: they, it, also, codeine, be, balkans, circ, we,\n",
      "Nearest to only: circ, agouti, rebellious, tav, reacts, tone, corresponding, afrikaners,\n",
      "Nearest to s: and, zero, or, two, voltaic, his, the, aba,\n",
      "Nearest to but: and, however, that, aba, which, vma, circ, almighty,\n",
      "Nearest to with: and, in, for, between, to, when, suebi, gollancz,\n",
      "Nearest to is: was, are, has, were, senex, circ, aba, dasyprocta,\n",
      "Nearest to i: he, lama, UNK, crossbow, nbs, ski, anchorage, conglomeration,\n",
      "Average loss at step  42000 :  5.37045249867\n",
      "Average loss at step  44000 :  5.24897752106\n",
      "Average loss at step  46000 :  5.22493809211\n",
      "Average loss at step  48000 :  5.20578864133\n",
      "Average loss at step  50000 :  4.97130975759\n",
      "Nearest to so: durkheim, lcd, contributor, acetyl, devastation, however, troughs, morally,\n",
      "Nearest to in: at, from, on, for, during, operatorname, of, and,\n",
      "Nearest to has: had, was, is, have, innumerable, glorious, since, birkenau,\n",
      "Nearest to d: b, turing, basins, five, phi, ecclesiastica, coke, six,\n",
      "Nearest to such: well, known, other, fountainhead, agave, evaluated, these, godfather,\n",
      "Nearest to their: its, his, the, kifl, bckgr, davids, a, dasyprocta,\n",
      "Nearest to however: but, photoshop, that, and, agave, within, twilight, aba,\n",
      "Nearest to see: almighty, otto, kx, circ, but, dispose, leave, and,\n",
      "Nearest to to: and, nine, for, from, accomplishments, will, circ, would,\n",
      "Nearest to not: they, it, also, codeine, we, circ, balkans, existentialist,\n",
      "Nearest to only: agouti, circ, tav, six, rebellious, reacts, five, omnibus,\n",
      "Nearest to s: and, the, his, zero, five, of, six, voltaic,\n",
      "Nearest to but: and, however, aba, that, which, vma, circ, four,\n"
     ]
    },
    {
     "name": "stdout",
     "output_type": "stream",
     "text": [
      "Nearest to with: in, and, when, between, for, by, nathaniel, seven,\n",
      "Nearest to is: was, has, are, were, eight, senex, be, circ,\n",
      "Nearest to i: he, ski, they, visconti, nbs, lama, gigantopithecus, crossbow,\n",
      "Average loss at step  52000 :  5.04596321416\n",
      "Average loss at step  54000 :  5.18809584165\n",
      "Average loss at step  56000 :  5.03725205564\n",
      "Average loss at step  58000 :  5.06205479085\n",
      "Average loss at step  60000 :  4.94905491006\n",
      "Nearest to so: durkheim, lcd, ursus, planting, contributor, acetyl, devastation, however,\n",
      "Nearest to in: from, on, at, during, operatorname, pulau, and, ursus,\n",
      "Nearest to has: had, was, have, is, glorious, innumerable, bore, birkenau,\n",
      "Nearest to d: b, basins, turing, five, ecclesiastica, phi, birkenau, coke,\n",
      "Nearest to such: known, well, other, these, many, fountainhead, agave, monte,\n",
      "Nearest to their: its, his, the, her, kifl, davids, bckgr, dasyprocta,\n",
      "Nearest to however: but, that, pettigrew, agave, photoshop, aba, wct, within,\n",
      "Nearest to see: almighty, but, otto, ups, circ, dispose, kx, michelob,\n",
      "Nearest to to: for, would, nine, circ, will, into, from, accomplishments,\n",
      "Nearest to not: they, it, we, codeine, generally, also, existentialist, to,\n",
      "Nearest to only: agouti, ursus, circ, tav, six, reacts, tone, amazonas,\n",
      "Nearest to s: and, zero, five, wct, his, ursus, dasyprocta, abkhazia,\n",
      "Nearest to but: however, and, aba, which, that, pulau, vma, circ,\n",
      "Nearest to with: in, between, when, by, six, for, ursus, and,\n",
      "Nearest to is: was, are, has, aba, ursus, dasyprocta, circ, senex,\n",
      "Nearest to i: he, ski, they, nbs, ii, visconti, gigantopithecus, we,\n",
      "Average loss at step  62000 :  4.99264234984\n",
      "Average loss at step  64000 :  4.84237886035\n",
      "Average loss at step  66000 :  4.61001689374\n",
      "Average loss at step  68000 :  4.97496628964\n",
      "Average loss at step  70000 :  4.91087499595\n",
      "Nearest to so: lcd, durkheim, ursus, microcebus, planting, acetyl, contributor, mico,\n",
      "Nearest to in: at, within, during, pulau, operatorname, michelob, circ, microcebus,\n",
      "Nearest to has: had, have, was, is, glorious, innumerable, since, alder,\n",
      "Nearest to d: b, basins, turing, ecclesiastica, UNK, coke, mitral, phi,\n",
      "Nearest to such: well, known, these, many, other, mitral, fountainhead, monte,\n",
      "Nearest to their: its, his, the, her, davids, kifl, mitral, dasyprocta,\n",
      "Nearest to however: but, while, pettigrew, that, aba, agave, and, wct,\n",
      "Nearest to see: almighty, ups, but, otto, circ, kx, dispose, dasyprocta,\n",
      "Nearest to to: circ, accomplishments, mico, would, nine, for, thaler, will,\n",
      "Nearest to not: they, we, it, generally, microcebus, codeine, circ, be,\n",
      "Nearest to only: agouti, circ, ursus, six, amazonas, reacts, tav, mico,\n",
      "Nearest to s: his, anthem, and, voltaic, wct, stupid, travis, nineteen,\n",
      "Nearest to but: however, and, aba, which, pulau, circ, while, ursus,\n",
      "Nearest to with: between, when, microcebus, ursus, in, by, six, for,\n",
      "Nearest to is: was, are, has, ursus, aba, dasyprocta, circ, senex,\n",
      "Nearest to i: he, upanija, ski, they, we, ii, visconti, nbs,\n",
      "Average loss at step  72000 :  4.75142013431\n",
      "Average loss at step  74000 :  4.79706372428\n",
      "Average loss at step  76000 :  4.71067800713\n",
      "Average loss at step  78000 :  4.8017290858\n",
      "Average loss at step  80000 :  4.80154566085\n",
      "Nearest to so: lcd, durkheim, ursus, planting, microcebus, acetyl, contributor, however,\n",
      "Nearest to in: during, at, ursus, pulau, operatorname, within, from, circ,\n",
      "Nearest to has: had, have, was, is, glorious, since, innumerable, oklahoma,\n",
      "Nearest to d: b, basins, turing, ecclesiastica, UNK, birkenau, mitral, coke,\n",
      "Nearest to such: these, well, many, known, other, mitral, specific, monte,\n",
      "Nearest to their: its, his, the, her, davids, kifl, dasyprocta, perihelion,\n",
      "Nearest to however: but, busan, that, while, aba, pettigrew, agave, pulau,\n",
      "Nearest to see: almighty, ups, but, circ, otto, circe, recitative, dasyprocta,\n",
      "Nearest to to: circ, thaler, mico, would, for, will, into, nine,\n",
      "Nearest to not: they, we, it, still, generally, microcebus, often, codeine,\n",
      "Nearest to only: agouti, circ, ursus, reacts, amazonas, omnibus, operatorname, but,\n",
      "Nearest to s: his, anthem, five, zero, pontificia, wct, four, travis,\n",
      "Nearest to but: however, and, aba, which, pulau, while, circ, ursus,\n",
      "Nearest to with: between, when, microcebus, by, in, ursus, and, nathaniel,\n",
      "Nearest to is: was, are, has, dasyprocta, senex, microcebus, ursus, but,\n",
      "Nearest to i: upanija, ii, they, we, he, UNK, ski, visconti,\n",
      "Average loss at step  82000 :  4.77263195091\n",
      "Average loss at step  84000 :  4.76044600546\n",
      "Average loss at step  86000 :  4.76745604086\n",
      "Average loss at step  88000 :  4.75220708799\n",
      "Average loss at step  90000 :  4.71940469944\n",
      "Nearest to so: lcd, ursus, durkheim, planting, acetyl, microcebus, contributor, however,\n",
      "Nearest to in: during, within, at, from, on, mico, operatorname, pulau,\n",
      "Nearest to has: had, have, was, is, since, glorious, innumerable, corrupt,\n",
      "Nearest to d: b, basins, turing, ecclesiastica, UNK, birkenau, j, five,\n",
      "Nearest to such: these, well, many, known, other, mitral, specific, some,\n",
      "Nearest to their: its, his, the, her, davids, our, dasyprocta, those,\n",
      "Nearest to however: but, busan, that, while, aba, pettigrew, agave, pulau,\n",
      "Nearest to see: ups, almighty, circ, but, otto, circe, recitative, cnd,\n",
      "Nearest to to: would, accomplishments, nine, thaler, can, will, circ, mico,\n",
      "Nearest to not: they, we, generally, still, it, microcebus, often, circ,\n",
      "Nearest to only: agouti, ursus, circ, reacts, amazonas, operatorname, omnibus, tav,\n",
      "Nearest to s: and, his, wct, six, marle, anthem, memorials, pontificia,\n",
      "Nearest to but: however, and, aba, which, pulau, while, ursus, that,\n",
      "Nearest to with: between, when, microcebus, in, by, ursus, six, suebi,\n",
      "Nearest to is: was, has, are, dasyprocta, senex, michelob, microcebus, canaris,\n",
      "Nearest to i: ii, we, they, he, upanija, ski, t, nbs,\n",
      "Average loss at step  92000 :  4.66969276047\n",
      "Average loss at step  94000 :  4.74014449775\n",
      "Average loss at step  96000 :  4.68027462208\n",
      "Average loss at step  98000 :  4.59497085774\n",
      "Average loss at step  100000 :  4.69289405477\n",
      "Nearest to so: lcd, ursus, planting, durkheim, however, microcebus, acetyl, thaler,\n",
      "Nearest to in: during, at, within, from, until, pulau, mico, operatorname,\n",
      "Nearest to has: had, have, was, is, since, glorious, innumerable, oklahoma,\n",
      "Nearest to d: b, basins, six, turing, mitral, birkenau, ursus, zero,\n",
      "Nearest to such: these, well, many, known, other, mitral, specific, some,\n",
      "Nearest to their: its, his, her, the, our, davids, these, dasyprocta,\n",
      "Nearest to however: but, that, while, busan, aba, pulau, and, pettigrew,\n",
      "Nearest to see: ups, almighty, stenella, circ, but, otto, cnd, circe,\n",
      "Nearest to to: circ, thaler, mico, accomplishments, should, can, will, would,\n",
      "Nearest to not: they, generally, still, we, often, microcebus, it, also,\n",
      "Nearest to only: agouti, ursus, circ, reacts, tav, operatorname, even, omnibus,\n",
      "Nearest to s: his, wct, five, ursus, four, voltaic, anthem, aba,\n",
      "Nearest to but: however, and, aba, which, while, pulau, or, ursus,\n",
      "Nearest to with: between, in, when, ursus, microcebus, by, suebi, eight,\n",
      "Nearest to is: was, has, are, senex, dasyprocta, be, microcebus, ursus,\n",
      "Nearest to i: ii, we, they, he, upanija, ski, t, antiochus,\n"
     ]
    }
   ],
   "source": [
    "with tf.Session(graph=graph) as session:\n",
    "  # We must initialize all variables before we use them.\n",
    "  init.run()\n",
    "  print('Initialized')\n",
    "\n",
    "  average_loss = 0\n",
    "  for step in xrange(num_steps):\n",
    "    batch_inputs, batch_labels = generate_batch(\n",
    "        batch_size, num_skips, skip_window)\n",
    "    feed_dict = {train_inputs: batch_inputs, train_labels: batch_labels}\n",
    "\n",
    "    # We perform one update step by evaluating the optimizer op (including it\n",
    "    # in the list of returned values for session.run()\n",
    "    _, loss_val = session.run([optimizer, loss], feed_dict=feed_dict)\n",
    "    average_loss += loss_val\n",
    "\n",
    "    if step % 2000 == 0:\n",
    "      if step > 0:\n",
    "        average_loss /= 2000\n",
    "      # The average loss is an estimate of the loss over the last 2000 batches.\n",
    "      print('Average loss at step ', step, ': ', average_loss)\n",
    "      average_loss = 0\n",
    "\n",
    "    # Note that this is expensive (~20% slowdown if computed every 500 steps)\n",
    "    if step % 10000 == 0:\n",
    "      sim = similarity.eval()\n",
    "      for i in xrange(valid_size):\n",
    "        valid_word = reverse_dictionary[valid_examples[i]]\n",
    "        top_k = 8  # number of nearest neighbors\n",
    "        nearest = (-sim[i, :]).argsort()[1:top_k + 1]\n",
    "        log_str = 'Nearest to %s:' % valid_word\n",
    "        for k in xrange(top_k):\n",
    "          close_word = reverse_dictionary[nearest[k]]\n",
    "          log_str = '%s %s,' % (log_str, close_word)\n",
    "        print(log_str)\n",
    "  final_embeddings = normalized_embeddings.eval()"
   ]
  },
  {
   "cell_type": "code",
   "execution_count": null,
   "metadata": {
    "collapsed": true
   },
   "outputs": [],
   "source": []
  },
  {
   "cell_type": "code",
   "execution_count": 25,
   "metadata": {
    "collapsed": true
   },
   "outputs": [],
   "source": [
    "def plot_with_labels(low_dim_embs, labels, filename):\n",
    "  assert low_dim_embs.shape[0] >= len(labels), 'More labels than embeddings'\n",
    "  plt.figure(figsize=(18, 18))  # in inches\n",
    "  for i, label in enumerate(labels):\n",
    "    x, y = low_dim_embs[i, :]\n",
    "    plt.scatter(x, y)\n",
    "    plt.annotate(label,\n",
    "                 xy=(x, y),\n",
    "                 xytext=(5, 2),\n",
    "                 textcoords='offset points',\n",
    "                 ha='right',\n",
    "                 va='bottom')\n",
    "\n",
    "  plt.savefig(filename)"
   ]
  },
  {
   "cell_type": "code",
   "execution_count": 26,
   "metadata": {
    "collapsed": true
   },
   "outputs": [],
   "source": [
    "try:\n",
    "  # pylint: disable=g-import-not-at-top\n",
    "  from sklearn.manifold import TSNE\n",
    "  import matplotlib.pyplot as plt\n",
    "\n",
    "  tsne = TSNE(perplexity=30, n_components=2, init='pca', n_iter=5000, method='exact')\n",
    "  plot_only = 500\n",
    "  low_dim_embs = tsne.fit_transform(final_embeddings[:plot_only, :])\n",
    "  labels = [reverse_dictionary[i] for i in xrange(plot_only)]\n",
    "  plot_with_labels(low_dim_embs, labels, os.path.join(gettempdir(), 'tsne.png'))\n",
    "\n",
    "except ImportError as ex:\n",
    "  print('Please install sklearn, matplotlib, and scipy to show embeddings.')\n",
    "  print(ex)"
   ]
  },
  {
   "cell_type": "code",
   "execution_count": 27,
   "metadata": {},
   "outputs": [
    {
     "data": {
      "text/plain": [
       "'C:\\\\Users\\\\dhaval\\\\AnacondaWorkingProjects\\\\Document Classification'"
      ]
     },
     "execution_count": 27,
     "metadata": {},
     "output_type": "execute_result"
    }
   ],
   "source": [
    "%pwd"
   ]
  },
  {
   "cell_type": "code",
   "execution_count": 28,
   "metadata": {},
   "outputs": [],
   "source": [
    "import tensorflow as tf\n",
    "import numpy as np\n",
    "import re\n",
    "import glob\n",
    "import collections\n",
    "import random\n",
    "import math\n",
    "import matplotlib.pyplot as plt\n",
    "import pickle\n",
    "from sklearn.manifold import TSNE\n",
    "from tensorflow.contrib.tensorboard.plugins import projector"
   ]
  },
  {
   "cell_type": "code",
   "execution_count": 56,
   "metadata": {},
   "outputs": [],
   "source": [
    "class Corpus:\n",
    "    def __init__(self):\n",
    "        self.embedding_size = 100\n",
    "        self.batch_size = 8\n",
    "        self.num_skips = 2\n",
    "        self.skip_window = 1\n",
    "        self.num_epochs = 30\n",
    "        self.learning_rate = 0.1\n",
    "\n",
    "        self.current_index = 0\n",
    "        self.words = []\n",
    "\n",
    "        self.dictionary = {}\n",
    "        self.final_embeddings = None\n",
    "\n",
    "    def build_dataset(self):\n",
    "        new_word_id = 0\n",
    "        self.words = []\n",
    "        self.dictionary = {}\n",
    "\n",
    "        \n",
    "        for filename in glob.glob(\"./corpus/*.txt\"):\n",
    "            with open(filename, \"r\", encoding=\"utf-8\") as f:\n",
    "        \n",
    "                text = f.read()\n",
    "                text = text.lower().replace(\"\\n\", \" \")\n",
    "                text = re.sub(r\"[^a-z '\\-]\", \"\", text)\n",
    "                text = re.sub(r\"[ ]+\", \" \", text)\n",
    "\n",
    "                for word in text.split():\n",
    "        \n",
    "                    if word.startswith(\"-\"): continue \n",
    "                    if word not in self.dictionary:\n",
    "                        self.dictionary[word] = new_word_id\n",
    "                        new_word_id += 1\n",
    "                    self.words.append(self.dictionary[word])\n",
    "\n",
    "        \n",
    "        self.vocabulary_size = new_word_id\n",
    "        print(\"# of distinct words:\", new_word_id)\n",
    "        print(\"# of total words:\", len(self.words))\n",
    "\n",
    "    \n",
    "    def generate_batch(self):\n",
    "        \n",
    "        assert self.batch_size % self.num_skips == 0\n",
    "        assert self.num_skips <= 2 * self.skip_window\n",
    "        \n",
    "        self.current_index = 0\n",
    "        batch = np.ndarray(shape=(self.batch_size), dtype=np.int32)\n",
    "        labels = np.ndarray(shape=(self.batch_size, 1), dtype=np.int32)\n",
    "\n",
    "        \n",
    "        span = 2 * self.skip_window + 1\n",
    "        if self.current_index + span >= len(self.words):\n",
    "            raise StopIteration\n",
    "\n",
    "        \n",
    "        buffer = collections.deque(maxlen=span)\n",
    "        for _ in range(span):\n",
    "            buffer.append(self.words[self.current_index])\n",
    "            self.current_index += 1\n",
    "\n",
    "        \n",
    "        for _ in range(len(self.words) // self.batch_size):\n",
    "            \n",
    "            for i in range(self.batch_size // self.num_skips):\n",
    "                target = self.skip_window\n",
    "                targets_to_avoid = [self.skip_window]\n",
    "                \n",
    "                for j in range(self.num_skips):\n",
    "                    while target in targets_to_avoid:\n",
    "                        target = random.randint(0, span - 1)\n",
    "                    targets_to_avoid.append(target)\n",
    "                    batch[i * self.num_skips + j] = buffer[self.skip_window]\n",
    "                    labels[i * self.num_skips + j, 0] = buffer[target]\n",
    "\n",
    "                \n",
    "                buffer.append(self.words[self.current_index])\n",
    "                self.current_index += 1\n",
    "                if self.current_index >= len(self.words):\n",
    "                    raise StopIteration\n",
    "            yield batch, labels\n",
    "        raise StopIteration\n",
    "        \n",
    "\n",
    "    def train(self):\n",
    "        \n",
    "        embeddings = tf.Variable(\n",
    "            tf.random_uniform([self.vocabulary_size, self.embedding_size], -1.0, 1.0))\n",
    "        print(\"Start train\")\n",
    "        \n",
    "        nce_weights = tf.Variable(\n",
    "            tf.truncated_normal([self.vocabulary_size, self.embedding_size],\n",
    "                                stddev=1.0 / math.sqrt(self.embedding_size)))\n",
    "        nce_biases = tf.Variable(tf.zeros([self.vocabulary_size]))\n",
    "\n",
    "        \n",
    "        train_inputs = tf.placeholder(tf.int32, shape=[self.batch_size])\n",
    "        train_labels = tf.placeholder(tf.int32, shape=[self.batch_size, 1])\n",
    "\n",
    "        \n",
    "        embed = tf.nn.embedding_lookup(embeddings, train_inputs)\n",
    "        loss = tf.reduce_mean(\n",
    "            tf.nn.nce_loss(nce_weights, nce_biases, embed, train_labels, self.batch_size // 2, self.vocabulary_size)\n",
    "        )\n",
    "\n",
    "        \n",
    "        optimizer = tf.train.GradientDescentOptimizer(learning_rate=self.learning_rate).minimize(loss)\n",
    "\n",
    "        # For similarities\n",
    "        # valid_examples = np.random.choice(100, 16, replace=False)\n",
    "        # valid_dataset = tf.constant(valid_examples, dtype=tf.int32)\n",
    "        norm = tf.sqrt(tf.reduce_sum(tf.square(embeddings), 1, keep_dims=True))\n",
    "        normalized_embeddings = int(embeddings / norm)\n",
    "        #valid_embeddings = tf.nn.embedding_lookup(normalized_embeddings, valid_dataset)\n",
    "        print(valid_embeddings, normalized_embeddings)\n",
    "        #similarity = tf.matmul(valid_embeddings, normalized_embeddings, transpose_b=True)\n",
    "\n",
    "        logdir = \"./corpus/log\"\n",
    "        with tf.Session() as sess:\n",
    "            sess.run(tf.global_variables_initializer())\n",
    "            saver = tf.train.Saver()\n",
    "\n",
    "        \n",
    "            for epoch in range(self.num_epochs):\n",
    "                epoch_loss = 0\n",
    "                # generate_batch()\n",
    "                for batch_x, batch_y in self.generate_batch():\n",
    "                    _, loss_value = sess.run([optimizer, loss], feed_dict={train_inputs: batch_x, train_labels: batch_y})\n",
    "                    epoch_loss += loss_value\n",
    "\n",
    "                print(\"Epoch\", epoch, \"completed out of\", self.num_epochs, \"-- loss:\", epoch_loss)\n",
    "\n",
    "                # Embeddings Visualization\n",
    "                saver.save(sess, logdir + \"/blog.ckpt\", epoch)\n",
    "\n",
    "            \n",
    "            self.final_embeddings = normalized_embeddings.eval() # <class 'numpy.ndarray'>\n",
    "\n",
    "            # Embeddings Visualiation\n",
    "            summary_writer = tf.summary.FileWriter(logdir)\n",
    "            config = projector.ProjectorConfig()\n",
    "            embedding = config.embeddings.add()\n",
    "            embedding.tensor_name = embeddings.name \n",
    "            embedding.metadata_path = \"./corpus/model/blog.metadata.tsv\"\n",
    "            projector.visualize_embeddings(summary_writer, config)\n",
    "\n",
    "        # self.plot()\n",
    "\n",
    "        \n",
    "        with open(\"./corpus/model/blog.dic\", \"wb\") as f:\n",
    "            pickle.dump(self.dictionary, f)\n",
    "        print(\"Dictionary was saved to\", \"./corpus/model/blog.dic\")\n",
    "        np.save(\"./corpus/model/blog.npy\", self.final_embeddings)\n",
    "        print(\"Embeddings were saved to\", \"./corpus/model/blog.npy/\")\n",
    "\n",
    "        # Embeddings Visualization\n",
    "        \n",
    "        sorted_dict = sorted(self.dictionary.items(), key=lambda x: x[1])\n",
    "        words = [\"{}\\n\".format(x[0]) for x in sorted_dict]\n",
    "        with open(\"./corpus/model/blog.metadata.tsv\", \"w\", encoding=\"utf-8\") as f:\n",
    "            f.writelines(words)\n",
    "        print(\"Embeddings metadata was saved to ./corpus/model/blog.metadata.tsv\")\n",
    "\n",
    "    def plot(self, filename=\"./corpus/model/blog.png\"):\n",
    "        tsne = TSNE(perplexity=30, n_components=2, init=\"pca\", n_iter=5000)\n",
    "        plot_only=500\n",
    "        low_dim_embeddings = tsne.fit_transform(self.final_embeddings[:plot_only, :])\n",
    "        reversed_dictionary = dict(zip(self.dictionary.values(), self.dictionary.keys()))\n",
    "        labels = [reversed_dictionary[i] for i in range(plot_only)]\n",
    "\n",
    "        plt.figure(figsize=(18, 18))\n",
    "        for i, label in enumerate(labels):\n",
    "            x, y = low_dim_embeddings[i, :]\n",
    "            plt.scatter(x, y)\n",
    "            plt.annotate(label,\n",
    "                        xy=(x, y),\n",
    "                        xytext=(5, 2),\n",
    "                        textcoords=\"offset points\",\n",
    "                        ha=\"right\",\n",
    "                        va=\"bottom\")\n",
    "        plt.savefig(filename)\n",
    "        print(\"Scatter plot was saved to\", filename)"
   ]
  },
  {
   "cell_type": "code",
   "execution_count": 46,
   "metadata": {},
   "outputs": [],
   "source": [
    "corpus = Corpus()\n"
   ]
  },
  {
   "cell_type": "code",
   "execution_count": 47,
   "metadata": {},
   "outputs": [
    {
     "name": "stdout",
     "output_type": "stream",
     "text": [
      "# of distinct words: 253854\n",
      "# of total words: 17005207\n"
     ]
    }
   ],
   "source": [
    "corpus.build_dataset()\n"
   ]
  },
  {
   "cell_type": "code",
   "execution_count": 48,
   "metadata": {},
   "outputs": [
    {
     "data": {
      "text/plain": [
       "<generator object Corpus.generate_batch at 0x0000016B9BE04AF0>"
      ]
     },
     "execution_count": 48,
     "metadata": {},
     "output_type": "execute_result"
    }
   ],
   "source": [
    "corpus.generate_batch()\n"
   ]
  },
  {
   "cell_type": "code",
   "execution_count": 57,
   "metadata": {},
   "outputs": [
    {
     "name": "stdout",
     "output_type": "stream",
     "text": [
      "Start train\n",
      "Done Generate Batch\n"
     ]
    },
    {
     "ename": "TypeError",
     "evalue": "Input 'y' of 'Mul' Op has type float32 that does not match type int32 of argument 'x'.",
     "output_type": "error",
     "traceback": [
      "\u001b[1;31m---------------------------------------------------------------------------\u001b[0m",
      "\u001b[1;31mValueError\u001b[0m                                Traceback (most recent call last)",
      "\u001b[1;32m~\\Anaconda3\\envs\\tensorflowpy3\\lib\\site-packages\\tensorflow\\python\\framework\\op_def_library.py\u001b[0m in \u001b[0;36mapply_op\u001b[1;34m(self, op_type_name, name, **keywords)\u001b[0m\n\u001b[0;32m    489\u001b[0m                 \u001b[0mas_ref\u001b[0m\u001b[1;33m=\u001b[0m\u001b[0minput_arg\u001b[0m\u001b[1;33m.\u001b[0m\u001b[0mis_ref\u001b[0m\u001b[1;33m,\u001b[0m\u001b[1;33m\u001b[0m\u001b[0m\n\u001b[1;32m--> 490\u001b[1;33m                 preferred_dtype=default_dtype)\n\u001b[0m\u001b[0;32m    491\u001b[0m           \u001b[1;32mexcept\u001b[0m \u001b[0mTypeError\u001b[0m \u001b[1;32mas\u001b[0m \u001b[0merr\u001b[0m\u001b[1;33m:\u001b[0m\u001b[1;33m\u001b[0m\u001b[0m\n",
      "\u001b[1;32m~\\Anaconda3\\envs\\tensorflowpy3\\lib\\site-packages\\tensorflow\\python\\framework\\ops.py\u001b[0m in \u001b[0;36minternal_convert_to_tensor\u001b[1;34m(value, dtype, name, as_ref, preferred_dtype)\u001b[0m\n\u001b[0;32m    740\u001b[0m         \u001b[1;32mif\u001b[0m \u001b[0mret\u001b[0m \u001b[1;32mis\u001b[0m \u001b[1;32mNone\u001b[0m\u001b[1;33m:\u001b[0m\u001b[1;33m\u001b[0m\u001b[0m\n\u001b[1;32m--> 741\u001b[1;33m           \u001b[0mret\u001b[0m \u001b[1;33m=\u001b[0m \u001b[0mconversion_func\u001b[0m\u001b[1;33m(\u001b[0m\u001b[0mvalue\u001b[0m\u001b[1;33m,\u001b[0m \u001b[0mdtype\u001b[0m\u001b[1;33m=\u001b[0m\u001b[0mdtype\u001b[0m\u001b[1;33m,\u001b[0m \u001b[0mname\u001b[0m\u001b[1;33m=\u001b[0m\u001b[0mname\u001b[0m\u001b[1;33m,\u001b[0m \u001b[0mas_ref\u001b[0m\u001b[1;33m=\u001b[0m\u001b[0mas_ref\u001b[0m\u001b[1;33m)\u001b[0m\u001b[1;33m\u001b[0m\u001b[0m\n\u001b[0m\u001b[0;32m    742\u001b[0m \u001b[1;33m\u001b[0m\u001b[0m\n",
      "\u001b[1;32m~\\Anaconda3\\envs\\tensorflowpy3\\lib\\site-packages\\tensorflow\\python\\framework\\ops.py\u001b[0m in \u001b[0;36m_TensorTensorConversionFunction\u001b[1;34m(t, dtype, name, as_ref)\u001b[0m\n\u001b[0;32m    613\u001b[0m         \u001b[1;34m\"Tensor conversion requested dtype %s for Tensor with dtype %s: %r\"\u001b[0m\u001b[1;33m\u001b[0m\u001b[0m\n\u001b[1;32m--> 614\u001b[1;33m         % (dtype.name, t.dtype.name, str(t)))\n\u001b[0m\u001b[0;32m    615\u001b[0m   \u001b[1;32mreturn\u001b[0m \u001b[0mt\u001b[0m\u001b[1;33m\u001b[0m\u001b[0m\n",
      "\u001b[1;31mValueError\u001b[0m: Tensor conversion requested dtype int32 for Tensor with dtype float32: 'Tensor(\"nce_loss_11/Reshape_1:0\", shape=(?, 1, ?), dtype=float32)'",
      "\nDuring handling of the above exception, another exception occurred:\n",
      "\u001b[1;31mTypeError\u001b[0m                                 Traceback (most recent call last)",
      "\u001b[1;32m<ipython-input-57-3682e42dd59a>\u001b[0m in \u001b[0;36m<module>\u001b[1;34m()\u001b[0m\n\u001b[1;32m----> 1\u001b[1;33m \u001b[0mcorpus\u001b[0m\u001b[1;33m.\u001b[0m\u001b[0mtrain\u001b[0m\u001b[1;33m(\u001b[0m\u001b[1;33m)\u001b[0m\u001b[1;33m\u001b[0m\u001b[0m\n\u001b[0m",
      "\u001b[1;32m<ipython-input-44-4413eb55383d>\u001b[0m in \u001b[0;36mtrain\u001b[1;34m(self)\u001b[0m\n\u001b[0;32m    103\u001b[0m         \u001b[0membed\u001b[0m \u001b[1;33m=\u001b[0m \u001b[0mtf\u001b[0m\u001b[1;33m.\u001b[0m\u001b[0mnn\u001b[0m\u001b[1;33m.\u001b[0m\u001b[0membedding_lookup\u001b[0m\u001b[1;33m(\u001b[0m\u001b[0membeddings\u001b[0m\u001b[1;33m,\u001b[0m \u001b[0mtrain_inputs\u001b[0m\u001b[1;33m)\u001b[0m\u001b[1;33m\u001b[0m\u001b[0m\n\u001b[0;32m    104\u001b[0m         loss = tf.reduce_mean(\n\u001b[1;32m--> 105\u001b[1;33m             \u001b[0mtf\u001b[0m\u001b[1;33m.\u001b[0m\u001b[0mnn\u001b[0m\u001b[1;33m.\u001b[0m\u001b[0mnce_loss\u001b[0m\u001b[1;33m(\u001b[0m\u001b[0mnce_weights\u001b[0m\u001b[1;33m,\u001b[0m \u001b[0mnce_biases\u001b[0m\u001b[1;33m,\u001b[0m \u001b[0membed\u001b[0m\u001b[1;33m,\u001b[0m \u001b[0mtrain_labels\u001b[0m\u001b[1;33m,\u001b[0m \u001b[0mself\u001b[0m\u001b[1;33m.\u001b[0m\u001b[0mbatch_size\u001b[0m \u001b[1;33m//\u001b[0m \u001b[1;36m2\u001b[0m\u001b[1;33m,\u001b[0m \u001b[0mself\u001b[0m\u001b[1;33m.\u001b[0m\u001b[0mvocabulary_size\u001b[0m\u001b[1;33m)\u001b[0m\u001b[1;33m\u001b[0m\u001b[0m\n\u001b[0m\u001b[0;32m    106\u001b[0m         )\n\u001b[0;32m    107\u001b[0m \u001b[1;33m\u001b[0m\u001b[0m\n",
      "\u001b[1;32m~\\Anaconda3\\envs\\tensorflowpy3\\lib\\site-packages\\tensorflow\\python\\ops\\nn_impl.py\u001b[0m in \u001b[0;36mnce_loss\u001b[1;34m(weights, biases, labels, inputs, num_sampled, num_classes, num_true, sampled_values, remove_accidental_hits, partition_strategy, name)\u001b[0m\n\u001b[0;32m   1170\u001b[0m       \u001b[0mremove_accidental_hits\u001b[0m\u001b[1;33m=\u001b[0m\u001b[0mremove_accidental_hits\u001b[0m\u001b[1;33m,\u001b[0m\u001b[1;33m\u001b[0m\u001b[0m\n\u001b[0;32m   1171\u001b[0m       \u001b[0mpartition_strategy\u001b[0m\u001b[1;33m=\u001b[0m\u001b[0mpartition_strategy\u001b[0m\u001b[1;33m,\u001b[0m\u001b[1;33m\u001b[0m\u001b[0m\n\u001b[1;32m-> 1172\u001b[1;33m       name=name)\n\u001b[0m\u001b[0;32m   1173\u001b[0m   sampled_losses = sigmoid_cross_entropy_with_logits(\n\u001b[0;32m   1174\u001b[0m       labels=labels, logits=logits, name=\"sampled_losses\")\n",
      "\u001b[1;32m~\\Anaconda3\\envs\\tensorflowpy3\\lib\\site-packages\\tensorflow\\python\\ops\\nn_impl.py\u001b[0m in \u001b[0;36m_compute_sampled_logits\u001b[1;34m(weights, biases, labels, inputs, num_sampled, num_classes, num_true, sampled_values, subtract_log_q, remove_accidental_hits, partition_strategy, name)\u001b[0m\n\u001b[0;32m   1005\u001b[0m     row_wise_dots = math_ops.multiply(\n\u001b[0;32m   1006\u001b[0m         \u001b[0marray_ops\u001b[0m\u001b[1;33m.\u001b[0m\u001b[0mexpand_dims\u001b[0m\u001b[1;33m(\u001b[0m\u001b[0minputs\u001b[0m\u001b[1;33m,\u001b[0m \u001b[1;36m1\u001b[0m\u001b[1;33m)\u001b[0m\u001b[1;33m,\u001b[0m\u001b[1;33m\u001b[0m\u001b[0m\n\u001b[1;32m-> 1007\u001b[1;33m         array_ops.reshape(true_w, new_true_w_shape))\n\u001b[0m\u001b[0;32m   1008\u001b[0m     \u001b[1;31m# We want the row-wise dot plus biases which yields a\u001b[0m\u001b[1;33m\u001b[0m\u001b[1;33m\u001b[0m\u001b[0m\n\u001b[0;32m   1009\u001b[0m     \u001b[1;31m# [batch_size, num_true] tensor of true_logits.\u001b[0m\u001b[1;33m\u001b[0m\u001b[1;33m\u001b[0m\u001b[0m\n",
      "\u001b[1;32m~\\Anaconda3\\envs\\tensorflowpy3\\lib\\site-packages\\tensorflow\\python\\ops\\math_ops.py\u001b[0m in \u001b[0;36mmultiply\u001b[1;34m(x, y, name)\u001b[0m\n\u001b[0;32m    284\u001b[0m \u001b[1;33m\u001b[0m\u001b[0m\n\u001b[0;32m    285\u001b[0m \u001b[1;32mdef\u001b[0m \u001b[0mmultiply\u001b[0m\u001b[1;33m(\u001b[0m\u001b[0mx\u001b[0m\u001b[1;33m,\u001b[0m \u001b[0my\u001b[0m\u001b[1;33m,\u001b[0m \u001b[0mname\u001b[0m\u001b[1;33m=\u001b[0m\u001b[1;32mNone\u001b[0m\u001b[1;33m)\u001b[0m\u001b[1;33m:\u001b[0m\u001b[1;33m\u001b[0m\u001b[0m\n\u001b[1;32m--> 286\u001b[1;33m   \u001b[1;32mreturn\u001b[0m \u001b[0mgen_math_ops\u001b[0m\u001b[1;33m.\u001b[0m\u001b[0m_mul\u001b[0m\u001b[1;33m(\u001b[0m\u001b[0mx\u001b[0m\u001b[1;33m,\u001b[0m \u001b[0my\u001b[0m\u001b[1;33m,\u001b[0m \u001b[0mname\u001b[0m\u001b[1;33m)\u001b[0m\u001b[1;33m\u001b[0m\u001b[0m\n\u001b[0m\u001b[0;32m    287\u001b[0m \u001b[1;33m\u001b[0m\u001b[0m\n\u001b[0;32m    288\u001b[0m \u001b[1;33m\u001b[0m\u001b[0m\n",
      "\u001b[1;32m~\\Anaconda3\\envs\\tensorflowpy3\\lib\\site-packages\\tensorflow\\python\\ops\\gen_math_ops.py\u001b[0m in \u001b[0;36m_mul\u001b[1;34m(x, y, name)\u001b[0m\n\u001b[0;32m   1375\u001b[0m     \u001b[0mA\u001b[0m\u001b[0;31m \u001b[0m\u001b[0;31m`\u001b[0m\u001b[0mTensor\u001b[0m\u001b[0;31m`\u001b[0m\u001b[1;33m.\u001b[0m \u001b[0mHas\u001b[0m \u001b[0mthe\u001b[0m \u001b[0msame\u001b[0m \u001b[0mtype\u001b[0m \u001b[1;32mas\u001b[0m\u001b[0;31m \u001b[0m\u001b[0;31m`\u001b[0m\u001b[0mx\u001b[0m\u001b[0;31m`\u001b[0m\u001b[1;33m.\u001b[0m\u001b[1;33m\u001b[0m\u001b[0m\n\u001b[0;32m   1376\u001b[0m   \"\"\"\n\u001b[1;32m-> 1377\u001b[1;33m   \u001b[0mresult\u001b[0m \u001b[1;33m=\u001b[0m \u001b[0m_op_def_lib\u001b[0m\u001b[1;33m.\u001b[0m\u001b[0mapply_op\u001b[0m\u001b[1;33m(\u001b[0m\u001b[1;34m\"Mul\"\u001b[0m\u001b[1;33m,\u001b[0m \u001b[0mx\u001b[0m\u001b[1;33m=\u001b[0m\u001b[0mx\u001b[0m\u001b[1;33m,\u001b[0m \u001b[0my\u001b[0m\u001b[1;33m=\u001b[0m\u001b[0my\u001b[0m\u001b[1;33m,\u001b[0m \u001b[0mname\u001b[0m\u001b[1;33m=\u001b[0m\u001b[0mname\u001b[0m\u001b[1;33m)\u001b[0m\u001b[1;33m\u001b[0m\u001b[0m\n\u001b[0m\u001b[0;32m   1378\u001b[0m   \u001b[1;32mreturn\u001b[0m \u001b[0mresult\u001b[0m\u001b[1;33m\u001b[0m\u001b[0m\n\u001b[0;32m   1379\u001b[0m \u001b[1;33m\u001b[0m\u001b[0m\n",
      "\u001b[1;32m~\\Anaconda3\\envs\\tensorflowpy3\\lib\\site-packages\\tensorflow\\python\\framework\\op_def_library.py\u001b[0m in \u001b[0;36mapply_op\u001b[1;34m(self, op_type_name, name, **keywords)\u001b[0m\n\u001b[0;32m    524\u001b[0m                   \u001b[1;34m\"%s type %s of argument '%s'.\"\u001b[0m \u001b[1;33m%\u001b[0m\u001b[1;33m\u001b[0m\u001b[0m\n\u001b[0;32m    525\u001b[0m                   (prefix, dtypes.as_dtype(attrs[input_arg.type_attr]).name,\n\u001b[1;32m--> 526\u001b[1;33m                    inferred_from[input_arg.type_attr]))\n\u001b[0m\u001b[0;32m    527\u001b[0m \u001b[1;33m\u001b[0m\u001b[0m\n\u001b[0;32m    528\u001b[0m           \u001b[0mtypes\u001b[0m \u001b[1;33m=\u001b[0m \u001b[1;33m[\u001b[0m\u001b[0mvalues\u001b[0m\u001b[1;33m.\u001b[0m\u001b[0mdtype\u001b[0m\u001b[1;33m]\u001b[0m\u001b[1;33m\u001b[0m\u001b[0m\n",
      "\u001b[1;31mTypeError\u001b[0m: Input 'y' of 'Mul' Op has type float32 that does not match type int32 of argument 'x'."
     ]
    }
   ],
   "source": [
    "corpus.train()"
   ]
  },
  {
   "cell_type": "code",
   "execution_count": null,
   "metadata": {
    "collapsed": true
   },
   "outputs": [],
   "source": []
  }
 ],
 "metadata": {
  "kernelspec": {
   "display_name": "Python 3",
   "language": "python",
   "name": "python3"
  },
  "language_info": {
   "codemirror_mode": {
    "name": "ipython",
    "version": 3
   },
   "file_extension": ".py",
   "mimetype": "text/x-python",
   "name": "python",
   "nbconvert_exporter": "python",
   "pygments_lexer": "ipython3",
   "version": "3.5.4"
  }
 },
 "nbformat": 4,
 "nbformat_minor": 2
}
